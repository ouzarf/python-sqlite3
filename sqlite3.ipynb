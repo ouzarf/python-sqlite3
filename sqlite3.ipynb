{
 "cells": [
  {
   "cell_type": "code",
   "execution_count": null,
   "metadata": {},
   "outputs": [],
   "source": [
    "import sqlite3\n",
    "# Create a database in RAM :                             db = sqlite3.connect(':memory:')\n",
    "# Creates or opens a file called mydb with a SQLite3 DB\n",
    "db = sqlite3.connect('chinook.db')\n",
    "# Get a cursor object\n",
    "cursor = db.cursor()"
   ]
  },
  {
   "cell_type": "code",
   "execution_count": null,
   "metadata": {},
   "outputs": [],
   "source": [
    "cursor.execute('''SELECT name, milliseconds,  albumid  FROM tracks''')\n",
    "user1 = cursor.fetchone() #retrieve the first row\n",
    "print(user1[0]) #Print the first column retrieved(user's name)\n",
    "all_rows = cursor.fetchall()\n",
    "for row in all_rows:\n",
    "    # row[0] returns the first column in the query (name), row[1] returns email column.\n",
    "    print('{0} : {1}, {2}'.format(row[0], row[1], row[2]))"
   ]
  },
  {
   "cell_type": "code",
   "execution_count": null,
   "metadata": {},
   "outputs": [],
   "source": [
    "cursor.execute(\"SELECT name FROM sqlite_master WHERE type='table';\")\n",
    "print(cursor.fetchall())"
   ]
  },
  {
   "cell_type": "code",
   "execution_count": null,
   "metadata": {},
   "outputs": [],
   "source": [
    "import sqlite3\n",
    "# Create a database in RAM :                             db = sqlite3.connect(':memory:')\n",
    "# Creates or opens a file called mydb with a SQLite3 DB\n",
    "db = sqlite3.connect('test.db')\n",
    "# Get a cursor object\n",
    "cursor = db.cursor()"
   ]
  },
  {
   "cell_type": "code",
   "execution_count": null,
   "metadata": {},
   "outputs": [],
   "source": [
    "cursor.execute('''\n",
    "    CREATE TABLE users(id INTEGER PRIMARY KEY, name TEXT,\n",
    "                       phone TEXT, email TEXT unique, password TEXT)\n",
    "''')\n",
    "db.commit()\n"
   ]
  },
  {
   "cell_type": "code",
   "execution_count": null,
   "metadata": {},
   "outputs": [],
   "source": [
    "cursor.execute(\"SELECT name FROM sqlite_master WHERE type='table';\")\n",
    "print(cursor.fetchall())"
   ]
  },
  {
   "cell_type": "code",
   "execution_count": null,
   "metadata": {},
   "outputs": [],
   "source": [
    "cursor.execute('''SELECT *  FROM cars''')\n",
    "user1 = cursor.fetchone() #retrieve the first row\n",
    "print(user1[0]) #Print the first column retrieved(user's name)\n",
    "all_rows = cursor.fetchall()\n",
    "for row in all_rows:\n",
    "    # row[0] returns the first column in the query (name), row[1] returns email column.\n",
    "    print('{0} : {1}, {2}'.format(row[0], row[1], row[2]))"
   ]
  },
  {
   "cell_type": "code",
   "execution_count": null,
   "metadata": {},
   "outputs": [],
   "source": [
    "cursor = db.cursor()\n",
    "name1 = 'Andres'\n",
    "phone1 = '3366858'\n",
    "email1 = 'user@example.com'\n",
    "# A very secure password\n",
    "password1 = '12345'\n",
    " \n",
    "name2 = 'John'\n",
    "phone2 = '5557241'\n",
    "email2 = 'johndoe@example.com'\n",
    "password2 = 'abcdef'\n",
    " \n",
    "# Insert user 1\n",
    "cursor.execute('''INSERT INTO users(name, phone, email, password)\n",
    "                  VALUES(?,?,?,?)''', (name1,phone1, email1, password1))\n",
    "print('First user inserted')\n",
    " \n",
    "# Insert user 2\n",
    "cursor.execute('''INSERT INTO users(name, phone, email, password)\n",
    "                  VALUES(?,?,?,?)''', (name2,phone2, email2, password2))\n",
    "print('Second user inserted')\n",
    " \n",
    "db.commit()"
   ]
  },
  {
   "cell_type": "code",
   "execution_count": null,
   "metadata": {},
   "outputs": [],
   "source": [
    "cursor.execute('''SELECT *  FROM users''')\n",
    "user1 = cursor.fetchone() #retrieve the first row\n",
    "#print(user1[1]) #Print the first column retrieved(user's name)\n",
    "all_rows = cursor.fetchall()\n",
    "for row in all_rows:\n",
    "    # row[0] returns the first column in the query (name), row[1] returns email column.\n",
    "    print('{0} : {1}, {2},{3}, {4}'.format(row[0], row[1], row[2], row[3], row[4]))"
   ]
  },
  {
   "cell_type": "code",
   "execution_count": null,
   "metadata": {},
   "outputs": [],
   "source": [
    "cursor.execute('''SELECT name, email, phone FROM users''')\n",
    "for row in cursor:\n",
    "    # row[0] returns the first column in the query (name), row[1] returns email column.\n",
    "    print('{0} : {1}, {2}'.format(row[0], row[1], row[2]))"
   ]
  },
  {
   "cell_type": "code",
   "execution_count": null,
   "metadata": {},
   "outputs": [],
   "source": [
    "#!/usr/bin/python\n",
    "# -*- coding: utf-8 -*-\n",
    "\n",
    "import sqlite3 as lite\n",
    "import sys\n",
    "\n",
    "con = lite.connect('test.db')\n",
    "\n",
    "with con:\n",
    "    \n",
    "    cur = con.cursor()    \n",
    "    cur.execute('SELECT SQLITE_VERSION()')\n",
    "    \n",
    "    data = cur.fetchone()\n",
    "    \n",
    "    print( \"SQLite version: %s\" % data ) \n"
   ]
  },
  {
   "cell_type": "code",
   "execution_count": null,
   "metadata": {},
   "outputs": [],
   "source": [
    "#!/usr/bin/python\n",
    "# -*- coding: utf-8 -*-\n",
    "\n",
    "import sqlite3 as lite\n",
    "import sys\n",
    "\n",
    "con = lite.connect(':memory:')\n",
    "\n",
    "with con:\n",
    "    \n",
    "    cur = con.cursor()    \n",
    "    cur.execute(\"CREATE TABLE Friends(Id INTEGER PRIMARY KEY, Name TEXT);\")\n",
    "    cur.execute(\"INSERT INTO Friends(Name) VALUES ('Tom');\")\n",
    "    cur.execute(\"INSERT INTO Friends(Name) VALUES ('Rebecca');\")\n",
    "    cur.execute(\"INSERT INTO Friends(Name) VALUES ('Jim');\")\n",
    "    cur.execute(\"INSERT INTO Friends(Name) VALUES ('Robert');\")\n",
    "        \n",
    "    lid = cur.lastrowid\n",
    "    print( \"The last Id of the inserted row is %d\" % lid)\n",
    "    with con:    \n",
    "    \n",
    "        cur = con.cursor()    \n",
    "        cur.execute(\"SELECT * FROM Friends\")\n",
    "\n",
    "    rows = cur.fetchall()\n",
    "\n",
    "    for row in rows:\n",
    "        print (row)"
   ]
  },
  {
   "cell_type": "code",
   "execution_count": null,
   "metadata": {},
   "outputs": [],
   "source": [
    "#!/usr/bin/python\n",
    "# -*- coding: utf-8 -*-\n",
    "\n",
    "import sqlite3 as lite\n",
    "import sys\n",
    "\n",
    "\n",
    "con = lite.connect('test.db')\n",
    "\n",
    "with con:    \n",
    "    \n",
    "    cur = con.cursor()    \n",
    "    cur.execute(\"SELECT * FROM Cars\")\n",
    "\n",
    "    rows = cur.fetchall()\n",
    "\n",
    "    for row in rows:\n",
    "        print (row)"
   ]
  },
  {
   "cell_type": "markdown",
   "metadata": {},
   "source": [
    " # Apprendre python 3"
   ]
  },
  {
   "cell_type": "code",
   "execution_count": 10,
   "metadata": {},
   "outputs": [],
   "source": [
    "import sqlite3\n",
    "# Create a database in RAM :                             db = sqlite3.connect(':memory:')\n",
    "# Creates or opens a file called mydb with a SQLite3 DB\n",
    "conn = sqlite3.connect('db-test.sqlite')\n",
    "# Get a cursor object\n",
    "cur = conn.cursor()"
   ]
  },
  {
   "cell_type": "code",
   "execution_count": 11,
   "metadata": {},
   "outputs": [
    {
     "ename": "OperationalError",
     "evalue": "table membres already exists",
     "output_type": "error",
     "traceback": [
      "\u001b[0;31m---------------------------------------------------------------------------\u001b[0m",
      "\u001b[0;31mOperationalError\u001b[0m                          Traceback (most recent call last)",
      "\u001b[0;32m<ipython-input-11-7991a99257c2>\u001b[0m in \u001b[0;36m<module>\u001b[0;34m()\u001b[0m\n\u001b[0;32m----> 1\u001b[0;31m \u001b[0mcur\u001b[0m\u001b[0;34m.\u001b[0m\u001b[0mexecute\u001b[0m\u001b[0;34m(\u001b[0m\u001b[0;34m\"CREATE TABLE membres (age INTEGER, nom TEXT, taille REAL)\"\u001b[0m\u001b[0;34m)\u001b[0m\u001b[0;34m\u001b[0m\u001b[0m\n\u001b[0m",
      "\u001b[0;31mOperationalError\u001b[0m: table membres already exists"
     ]
    }
   ],
   "source": [
    "cur.execute(\"CREATE TABLE membres (age INTEGER, nom TEXT, taille REAL)\")"
   ]
  },
  {
   "cell_type": "code",
   "execution_count": 12,
   "metadata": {},
   "outputs": [
    {
     "data": {
      "text/plain": [
       "<sqlite3.Cursor at 0x10472d570>"
      ]
     },
     "execution_count": 12,
     "metadata": {},
     "output_type": "execute_result"
    }
   ],
   "source": [
    "cur.execute(\"INSERT INTO membres(age,nom,taille) VALUES(25,'pont',1.80)\")"
   ]
  },
  {
   "cell_type": "code",
   "execution_count": 13,
   "metadata": {},
   "outputs": [
    {
     "data": {
      "text/plain": [
       "<sqlite3.Cursor at 0x10472d570>"
      ]
     },
     "execution_count": 13,
     "metadata": {},
     "output_type": "execute_result"
    }
   ],
   "source": [
    "cur.execute(\"INSERT INTO membres(age,nom,taille) VALUES(35,'Alim',1.75)\")\n",
    "cur.execute(\"INSERT INTO membres(age,nom,taille) VALUES(40,'Omar',1.85)\")"
   ]
  },
  {
   "cell_type": "code",
   "execution_count": 14,
   "metadata": {},
   "outputs": [],
   "source": [
    "conn.commit()"
   ]
  },
  {
   "cell_type": "code",
   "execution_count": 15,
   "metadata": {},
   "outputs": [
    {
     "data": {
      "text/plain": [
       "[('membres',)]"
      ]
     },
     "execution_count": 15,
     "metadata": {},
     "output_type": "execute_result"
    }
   ],
   "source": [
    "cur.execute('''SELECT name FROM sqlite_master''').fetchall()"
   ]
  },
  {
   "cell_type": "code",
   "execution_count": 16,
   "metadata": {},
   "outputs": [],
   "source": [
    "#cur.close()\n",
    "#conn.close()"
   ]
  },
  {
   "cell_type": "code",
   "execution_count": 17,
   "metadata": {},
   "outputs": [
    {
     "data": {
      "text/plain": [
       "[('membres',)]"
      ]
     },
     "execution_count": 17,
     "metadata": {},
     "output_type": "execute_result"
    }
   ],
   "source": [
    "cur.execute('''SELECT name FROM sqlite_master''').fetchall()"
   ]
  },
  {
   "cell_type": "code",
   "execution_count": 33,
   "metadata": {},
   "outputs": [
    {
     "data": {
      "text/plain": [
       "[(21, 'Dupont', 1.83),\n",
       " (31, 'Ali', 1.75),\n",
       " (42, 'Om', 1.85),\n",
       " (21, 'Dupont', 1.83),\n",
       " (31, 'Ali', 1.75),\n",
       " (42, 'Om', 1.85),\n",
       " (25, 'pont', 1.8),\n",
       " (35, 'Alim', 1.75),\n",
       " (40, 'Omar', 1.85),\n",
       " (25, 'pont', 1.8),\n",
       " (35, 'Alim', 1.75),\n",
       " (40, 'Omar', 1.85)]"
      ]
     },
     "execution_count": 33,
     "metadata": {},
     "output_type": "execute_result"
    }
   ],
   "source": [
    "cur.execute(\"SELECT * FROM membres\")\n",
    "list(cur)"
   ]
  },
  {
   "cell_type": "code",
   "execution_count": 34,
   "metadata": {},
   "outputs": [
    {
     "name": "stdout",
     "output_type": "stream",
     "text": [
      "(21, 'Dupont', 1.83)\n",
      "(31, 'Ali', 1.75)\n",
      "(42, 'Om', 1.85)\n",
      "(21, 'Dupont', 1.83)\n",
      "(31, 'Ali', 1.75)\n",
      "(42, 'Om', 1.85)\n",
      "(25, 'pont', 1.8)\n",
      "(35, 'Alim', 1.75)\n",
      "(40, 'Omar', 1.85)\n",
      "(25, 'pont', 1.8)\n",
      "(35, 'Alim', 1.75)\n",
      "(40, 'Omar', 1.85)\n"
     ]
    }
   ],
   "source": [
    "cur.execute(\"SELECT * FROM membres\")\n",
    "for l in cur:\n",
    "    print(l)"
   ]
  },
  {
   "cell_type": "code",
   "execution_count": 35,
   "metadata": {},
   "outputs": [
    {
     "data": {
      "text/plain": [
       "[(21, 'Dupont', 1.83),\n",
       " (31, 'Ali', 1.75),\n",
       " (42, 'Om', 1.85),\n",
       " (21, 'Dupont', 1.83),\n",
       " (31, 'Ali', 1.75),\n",
       " (42, 'Om', 1.85),\n",
       " (25, 'pont', 1.8),\n",
       " (35, 'Alim', 1.75),\n",
       " (40, 'Omar', 1.85),\n",
       " (25, 'pont', 1.8),\n",
       " (35, 'Alim', 1.75),\n",
       " (40, 'Omar', 1.85)]"
      ]
     },
     "execution_count": 35,
     "metadata": {},
     "output_type": "execute_result"
    }
   ],
   "source": [
    "cur.execute(\"SELECT * FROM membres\")\n",
    "cur.fetchall()"
   ]
  },
  {
   "cell_type": "code",
   "execution_count": 36,
   "metadata": {},
   "outputs": [
    {
     "data": {
      "text/plain": [
       "<sqlite3.Cursor at 0x10472d570>"
      ]
     },
     "execution_count": 36,
     "metadata": {},
     "output_type": "execute_result"
    }
   ],
   "source": [
    "cur.execute(\"INSERT INTO membres(age,nom,taille) VALUES(19,'Ricard',1.75)\")"
   ]
  },
  {
   "cell_type": "code",
   "execution_count": 37,
   "metadata": {},
   "outputs": [],
   "source": [
    "data =[(17,\"Durand\",1.74),(22,\"Berger\",1.71),(20,\"Weber\",1.65)]\n",
    "for tu in data:\n",
    "    cur.execute(\"INSERT INTO membres(age,nom,taille) VALUES(?,?,?)\", tu)\n",
    "\n",
    "conn.commit()"
   ]
  },
  {
   "cell_type": "code",
   "execution_count": 38,
   "metadata": {},
   "outputs": [
    {
     "data": {
      "text/plain": [
       "<sqlite3.Cursor at 0x10472d570>"
      ]
     },
     "execution_count": 38,
     "metadata": {},
     "output_type": "execute_result"
    }
   ],
   "source": [
    "cur.execute(\"UPDATE membres SET nom ='OUZARF' WHERE nom='Ricard'\")"
   ]
  },
  {
   "cell_type": "code",
   "execution_count": 39,
   "metadata": {},
   "outputs": [
    {
     "data": {
      "text/plain": [
       "<sqlite3.Cursor at 0x10472d570>"
      ]
     },
     "execution_count": 39,
     "metadata": {},
     "output_type": "execute_result"
    }
   ],
   "source": [
    "cur.execute(\"UPDATE membres SET age =50 WHERE nom='OUZARF'\")"
   ]
  },
  {
   "cell_type": "code",
   "execution_count": 46,
   "metadata": {},
   "outputs": [],
   "source": [
    "conn.commit()"
   ]
  },
  {
   "cell_type": "code",
   "execution_count": 45,
   "metadata": {},
   "outputs": [
    {
     "data": {
      "text/plain": [
       "<sqlite3.Cursor at 0x10472d570>"
      ]
     },
     "execution_count": 45,
     "metadata": {},
     "output_type": "execute_result"
    }
   ],
   "source": [
    "cur.execute(\"DELETE FROM membres WHERE rowid=10\")"
   ]
  },
  {
   "cell_type": "code",
   "execution_count": 52,
   "metadata": {},
   "outputs": [],
   "source": [
    "import sqlite3\n",
    "# Établissement de la connexion - Création du curseur :\n",
    "connex = sqlite3.connect(\"musik.sqlite\")\n",
    "cur = connex.cursor()"
   ]
  },
  {
   "cell_type": "code",
   "execution_count": 53,
   "metadata": {},
   "outputs": [
    {
     "name": "stdout",
     "output_type": "stream",
     "text": [
      "Entrée des enregistrements, table des compositeurs :\n",
      "Nom du compositeur (<Enter> pour terminer) : om\n",
      "Année de naissance : 1930\n",
      "Année de mort : 2002\n",
      "Nom du compositeur (<Enter> pour terminer) : 1\n",
      "Année de naissance : 1900\n",
      "Année de mort : 2000\n",
      "Nom du compositeur (<Enter> pour terminer) : \n",
      "Rappel des infos introduites :\n",
      "('om', 1930, 2002)\n",
      "('1', 1900, 2000)\n",
      "Entrée des enregistrements, table des oeuvres musicales :\n",
      "Nom du compositeur (<Enter> pour terminer) :  \n",
      "Titre de l'oeuvre : maroc\n",
      "durée (minutes) : 20\n",
      "interprète principal : ouzarf\n",
      "Nom du compositeur (<Enter> pour terminer) : om\n",
      "Titre de l'oeuvre :  \n",
      "durée (minutes) : \n",
      "interprète principal : \n",
      "Nom du compositeur (<Enter> pour terminer) : \n",
      "Rappel des infos introduites :\n",
      "(' ', 'maroc', 20, 'ouzarf')\n",
      "('om', ' ', '', '')\n"
     ]
    }
   ],
   "source": [
    "print(\"Entrée des enregistrements, table des compositeurs :\")\n",
    "while 1:\n",
    "    nom = input(\"Nom du compositeur (<Enter> pour terminer) : \")\n",
    "    if nom =='':\n",
    "        break\n",
    "    aNais = input(\"Année de naissance : \")\n",
    "    aMort = input(\"Année de mort : \")\n",
    "    req =\"INSERT INTO compositeurs (comp, a_naiss, a_mort) VALUES (?, ?, ?)\"\n",
    "    cur.execute(req, (nom, aNais, aMort))\n",
    "print(\"Rappel des infos introduites :\")\n",
    "cur.execute(\"select * from compositeurs\")\n",
    "for enreg in cur:\n",
    "    print(enreg)\n",
    "print(\"Entrée des enregistrements, table des oeuvres musicales :\")\n",
    "while 1:\n",
    "    nom = input(\"Nom du compositeur (<Enter> pour terminer) : \")\n",
    "    if nom =='':\n",
    "        break\n",
    "    titre = input(\"Titre de l'oeuvre : \")\n",
    "    duree = input(\"durée (minutes) : \")\n",
    "    inter = input(\"interprète principal : \")\n",
    "    req =\"INSERT INTO oeuvres (comp, titre, duree, interpr) VALUES (?, ?, ?, ?)\"\n",
    "    cur.execute(req, (nom, titre, duree, inter))\n",
    "print(\"Rappel des infos introduites :\")\n",
    "cur.execute(\"select * from oeuvres\")\n",
    "for enreg in cur:\n",
    "    print(enreg)\n",
    "# Transfert effectif des enregistrements dans la BD :\n",
    "connex.commit()"
   ]
  },
  {
   "cell_type": "code",
   "execution_count": 54,
   "metadata": {},
   "outputs": [],
   "source": [
    "cur.execute(\"INSERT INTO compositeurs(comp, a_naiss, a_mort) VALUES('Alim',1975,2012)\")\n",
    "connex.commit()"
   ]
  },
  {
   "cell_type": "code",
   "execution_count": 55,
   "metadata": {},
   "outputs": [
    {
     "name": "stdout",
     "output_type": "stream",
     "text": [
      "Veuillez entrer votre requête SQL (ou <Enter> pour terminer) :\n",
      "select * from oeuvres\n",
      "('Mozart', 'Concerto piano N°12', 25, 'M. Perahia')\n",
      "('Vivaldi', 'Les quatre saisons', 20, 'T.Pinnock')\n",
      "('Brahms', 'Concerto violon N°2', 40, 'A. Grumiaux')\n",
      "('Beethoven', 'Sonate \"au clair de lune\"', 14, 'W. Kempf')\n",
      "('Beethoven', 'Sonate \"pathétique\"', 17, 'W. Kempf')\n",
      "('Schubert', 'Quintette \"la truite\"', 39, 'SE of London')\n",
      "('Haydn', 'La création', 109, 'H. Von Karajan')\n",
      "('Chopin', 'Concerto piano N°1', 42, 'M.J. Pires')\n",
      "('Bach', 'Toccata et fugue', 9, 'P. Burmester')\n",
      "('Beethoven', 'Concerto piano N°4', 33, 'M. Pollini')\n",
      "('Mozart', 'Symphonie N°40', 29, 'F. Bruggen')\n",
      "('Mozart', 'Concerto piano N°22', 35, 'S. Richter')\n",
      "('Beethoven', 'Concerto piano N°3', 37, 'S. Richter')\n",
      "\n",
      "Veuillez entrer votre requête SQL (ou <Enter> pour terminer) :\n",
      "\n",
      "Confirmez-vous l'enregistrement de l'état actuel (o/n) ? o\n"
     ]
    }
   ],
   "source": [
    "\n",
    "import sqlite3\n",
    "\n",
    "baseDonn = sqlite3.connect(\"musique16.sqlite\")\n",
    "cur = baseDonn.cursor()\n",
    "while 1:\n",
    "    print(\"Veuillez entrer votre requête SQL (ou <Enter> pour terminer) :\")\n",
    "    requete = input()\n",
    "    if requete ==\"\":\n",
    "        break\n",
    "    try:\n",
    "        cur.execute(requete)           # exécution de la requête SQL\n",
    "    except:\n",
    "        print('*** Requête SQL incorrecte ***')\n",
    "    else:\n",
    "        for enreg in cur:              # Affichage du résultat\n",
    "            print(enreg)\n",
    "    print()\n",
    "\n",
    "choix = input(\"Confirmez-vous l'enregistrement de l'état actuel (o/n) ? \")\n",
    "if choix[0] == \"o\" or choix[0] == \"O\":\n",
    "    baseDonn.commit()\n",
    "else:\n",
    "    baseDonn.close()"
   ]
  },
  {
   "cell_type": "code",
   "execution_count": null,
   "metadata": {},
   "outputs": [],
   "source": []
  }
 ],
 "metadata": {
  "anaconda-cloud": {},
  "kernelspec": {
   "display_name": "Python [default]",
   "language": "python",
   "name": "python3"
  },
  "language_info": {
   "codemirror_mode": {
    "name": "ipython",
    "version": 3
   },
   "file_extension": ".py",
   "mimetype": "text/x-python",
   "name": "python",
   "nbconvert_exporter": "python",
   "pygments_lexer": "ipython3",
   "version": "3.5.2"
  }
 },
 "nbformat": 4,
 "nbformat_minor": 1
}
